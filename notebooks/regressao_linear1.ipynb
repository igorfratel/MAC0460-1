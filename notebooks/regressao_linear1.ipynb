{
 "cells": [
  {
   "cell_type": "markdown",
   "metadata": {},
   "source": [
    "# Regressão linear 1: equações normais\n",
    "\n",
    "\n",
    "Dado o dataset $(\\mathbf{x}_{1}, y_{1}), \\dots ,(\\mathbf{x}_{N}, y_{N})$ onde $\\mathbf{x}_i \\in \\mathbb{R}^{d}$ e $y_i \\in \\mathbb{R}$, podemos aproximar a função desconhecida $f:\\mathbb{R}^{d} \\rightarrow \\mathbb{R}$ (lembrando que $y_i =f(\\mathbf{x}_i)$) por meio de um modelo linear $h$:\n",
    "$$\n",
    "h(\\mathbf{x}_{i}; \\mathbf{w}, b) = \\mathbf{w}^\\top  \\mathbf{x}_{i} + b\n",
    "$$\n",
    "\n",
    "Note que $h(\\mathbf{x}_{i}; \\mathbf{w}, b)$ é na verdade uma [transformação afim](https://en.wikipedia.org/wiki/Affine_transformation) de $\\mathbf{x}_{i}$. Como em outros lugares, vamos usar o termo \"linear\" também para caracterizar uma transformação afim.\n",
    "\n",
    "A saída de $h$ é uma transformação linear de $\\mathbf{x}_{i}$. Usamos a notação $h(\\mathbf{x}_{i}; \\mathbf{w}, b)$ para deixar claro que $h$ é um modelo parametrizado, i.e., a transformação $h$ é definida pelos parâmetros $\\mathbf{w}$ e $b$. Podemos pensar no vetor $\\mathbf{w}$ como um vetor de *pesos* controlando o efeito de cada *feature* na predição.\n",
    "\n",
    "Adicionando uma feature a mais na obsevação $\\mathbf{x}_{i}$ (com o valor 1) -- coordenada artificial -- podemos simplificar a notação do modelo:\n",
    "\n",
    "$$\n",
    "h(\\mathbf{x}_{i}; \\mathbf{w}) = \\hat{y}_{i} = \\mathbf{w}^\\top  \\mathbf{x}_{i}\n",
    "$$\n",
    "\n",
    "Procuramos os melhores parâmetros $\\mathbf{w}$ de modo que a predição $\\hat{y}_{i}$ seja a mais próxima de $y_{i}$ de acordo com alguma métrica de erro. Usando o *erro quadrárico médio* como tal métrica podemos obter a seguinte função de custo:\n",
    "\n",
    "\\begin{equation}\n",
    "J(\\mathbf{w}) = \\frac{1}{N}\\sum_{i=1}^{N}(\\hat{y}_{i} - y_{i})^{2}\n",
    "\\end{equation}\n",
    "\n",
    "Desse modo, a tarefa de achar os parâmetros $\\mathbf{w}$ se torna a tarefa de encontrar os valores de $\\mathbf{w}$ para minimizar $J(\\mathbf{w})$.\n",
    "\n",
    "**Aqui vamos começar a explorar esse modelo olhando para um dataset bem simples**\n"
   ]
  },
  {
   "cell_type": "code",
<<<<<<< HEAD
   "execution_count": null,
=======
   "execution_count": 1,
>>>>>>> initial
   "metadata": {},
   "outputs": [],
   "source": [
    "# all imports\n",
    "import numpy as np\n",
    "import time\n",
    "from util import get_housing_prices_data, r_squared\n",
    "from plots import plot_points_regression \n",
    "\n",
    "%matplotlib inline"
   ]
  },
  {
   "cell_type": "markdown",
   "metadata": {},
   "source": [
    "### O dataset\n",
    "\n",
    "Os dados que vamos trabalhar vão ser dados artificiais. Vamos pegar 100 observações com apenas uma *feature* (metros quadrados de um imóvel) e com isso vamos associar um valor (o preço desse imóvel em $). Nossa tarefa é construir um modelo que consiga predizer o valor de imóveis."
   ]
  },
  {
   "cell_type": "code",
<<<<<<< HEAD
   "execution_count": null,
   "metadata": {},
   "outputs": [],
=======
   "execution_count": 2,
   "metadata": {},
   "outputs": [
    {
     "name": "stdout",
     "output_type": "stream",
     "text": [
      "\n",
      "X shape = (100, 1)\n",
      "\n",
      "y shape = (100, 1)\n",
      "\n",
      "X:\n",
      "mean 645.0, sdt 323.65, max 1200.0, min 90.0\n",
      "\n",
      "y:\n",
      "mean 43248.71875, sdt 16788.69, max 76174.6875, min 10928.9462890625\n"
     ]
    }
   ],
>>>>>>> initial
   "source": [
    "X, y = get_housing_prices_data(N=100)"
   ]
  },
  {
   "cell_type": "markdown",
   "metadata": {},
   "source": [
    "### Plotando os dados\n",
    "\n",
    "Acima temos algumas informações sobre os dados, podemos também visualizar cada ponto."
   ]
  },
  {
   "cell_type": "code",
<<<<<<< HEAD
   "execution_count": null,
   "metadata": {},
   "outputs": [],
=======
   "execution_count": 3,
   "metadata": {},
   "outputs": [
    {
     "data": {
      "image/png": "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\n",
      "text/plain": [
       "<matplotlib.figure.Figure at 0x7f7ccbbd3d68>"
      ]
     },
     "metadata": {},
     "output_type": "display_data"
    }
   ],
>>>>>>> initial
   "source": [
    "plot_points_regression(X,\n",
    "                       y,\n",
    "                       title='Real estate prices prediction',\n",
    "                       xlabel=\"m\\u00b2\",\n",
    "                       ylabel='$')"
   ]
  },
  {
   "cell_type": "markdown",
   "metadata": {},
   "source": [
    "### Equações normais\n",
    "\n",
    "Dados $f:\\mathbb{R}^{n\\times m} \\rightarrow \\mathbb{R}$ e $\\mathbf{A} \\in \\mathbb{R}^{n\\times m}$, definimos a derivada de $f$ com respeito a $\\mathbf{A}$ como:\n",
    "\n",
    "\\begin{equation*}\n",
    "\\nabla_{\\mathbf{A}}f =  \\begin{bmatrix}\n",
    "\\frac{\\partial f}{\\partial \\mathbf{A}_{1,1}} & \\dots & \\frac{\\partial f}{\\partial \\mathbf{A}_{1,m}} \\\\\n",
    "\\vdots &  \\ddots & \\vdots \\\\\n",
    "\\frac{\\partial f}{\\partial \\mathbf{A}_{n,1}} &  \\dots & \\frac{\\partial f}{\\partial \\mathbf{A}_{n,m}}\n",
    "\\end{bmatrix}\n",
    "\\end{equation*}\n",
    "\n",
    "Seja $\\mathbf{X} \\in \\mathbb{R}^{N\\times m}$ a matriz cujas linhas são as observações do dataset (também chamada de *design matrix*) e seja $\\mathbf{y} \\in \\mathbb{R}^{N}$ o vetor contendo todos os valores de $y_{i}$ (i.e., $\\mathbf{X}_{i,:} = \\mathbf{x}_{i}$ e $\\mathbf{y}_{i} =y_{i}$). É fácil checar que: \n",
    "\n",
    "\n",
    "\\begin{equation}\n",
    "J(\\mathbf{w}) = \\frac{1}{N}(\\mathbf{X}\\mathbf{w} - \\mathbf{y})^{T}(\\mathbf{X}\\mathbf{w} - \\mathbf{y})\n",
    "\\end{equation}\n",
    "\n",
    "\n",
    "Usando certos conceitos básicos de derivada com matrizes podemos chegar no gradiente de $J(\\mathbf{w})$ com respeito a $\\mathbf{w}$\n",
    "\n",
    "\\begin{equation}\n",
    "\\nabla_{\\mathbf{w}}J(\\mathbf{w}) = \\frac{2}{N} (\\mathbf{X}^{T}\\mathbf{X}\\mathbf{w} -\\mathbf{X}^{T}\\mathbf{y})   \n",
    "\\end{equation}\n",
    "\n",
    "Assim, quando $\\nabla_{\\mathbf{w}}J(\\mathbf{w}) = 0$ temos que \n",
    "\n",
    "\\begin{equation}\n",
    "\\mathbf{X}^{T}\\mathbf{X}\\mathbf{w} = \\mathbf{X}^{T}\\mathbf{y}\n",
    "\\end{equation}\n",
    "\n",
    "Desse modo,\n",
    "\n",
    "\\begin{equation}\n",
    "\\mathbf{w} = (\\mathbf{X}^{T}\\mathbf{X})^{-1}\\mathbf{X}^{T}\\mathbf{y}\n",
    "\\end{equation}\n",
    "\n",
    "A solução dada por essas equações são conhecidas como **equações normais**. Note que esse tipo de solução tem um custo, pois conforme cresce o número de variáveis, o tempo da inversão da matriz fica proibitivo. Vale a pena ler [esse material](http://cs229.stanford.edu/notes/cs229-notes1.pdf) para ver o argumento com mais detalhes."
   ]
  },
  {
   "cell_type": "markdown",
   "metadata": {},
   "source": [
    "### Exercício\n",
    "Implemente a predição usando o método de equações normais. Usando apenas a biblioteca **numpy** você deve completar a função abaixo (uma introdução rápida a certas funcionalidades dessa biblioteca pode ser encontrada [aqui](http://cs231n.github.io/python-numpy-tutorial/)). Lembre que $\\mathbf{X} \\in \\mathbb{R}^{N\\times d}$, você precisa adicionar uma componente com apenas 1s a cada observação em $\\mathbf{X}$ e realizar a computação descrita acima."
   ]
  },
  {
   "cell_type": "code",
<<<<<<< HEAD
   "execution_count": null,
=======
   "execution_count": 18,
>>>>>>> initial
   "metadata": {},
   "outputs": [],
   "source": [
    "def normal_equation_prediction(X, y):\n",
    "    \"\"\"\n",
    "    Calculates the prediction using the normal equation method.\n",
    "    You should add a new row with 1s.\n",
    "\n",
    "    :param X: design matrix\n",
    "    :type X: np.ndarray(shape=(N, d))\n",
    "    :param y: regression targets\n",
    "    :type y: np.ndarray(shape=(N, 1))\n",
    "    :return: prediction\n",
    "    :rtype: np.ndarray(shape=(N, 1))\n",
    "    \"\"\"\n",
<<<<<<< HEAD
    "    # YOUR CODE HERE:\n",
    "    raise NotImplementedError\n",
    "    # END YOUR CODE\n",
=======
    "    X = np.insert(X, 0, 1.0, axis=1)\n",
    "    w =  np.linalg.inv(X.T.dot(X)).dot(X.T).dot(y)\n",
    "    prediction = w.T.dot(X)\n",
    "\n",
>>>>>>> initial
    "    return prediction\n"
   ]
  },
  {
   "cell_type": "code",
<<<<<<< HEAD
   "execution_count": null,
   "metadata": {},
   "outputs": [],
=======
   "execution_count": 19,
   "metadata": {},
   "outputs": [
    {
     "ename": "ValueError",
     "evalue": "shapes (1,2) and (1000000,2) not aligned: 2 (dim 1) != 1000000 (dim 0)",
     "output_type": "error",
     "traceback": [
      "\u001b[0;31m---------------------------------------------------------------------------\u001b[0m",
      "\u001b[0;31mValueError\u001b[0m                                Traceback (most recent call last)",
      "\u001b[0;32m<ipython-input-19-ea9ec5d5847a>\u001b[0m in \u001b[0;36m<module>\u001b[0;34m()\u001b[0m\n\u001b[1;32m      1\u001b[0m \u001b[0;32mtry\u001b[0m\u001b[0;34m:\u001b[0m\u001b[0;34m\u001b[0m\u001b[0m\n\u001b[0;32m----> 2\u001b[0;31m     \u001b[0mprediction\u001b[0m \u001b[0;34m=\u001b[0m \u001b[0mnormal_equation_prediction\u001b[0m\u001b[0;34m(\u001b[0m\u001b[0mX\u001b[0m\u001b[0;34m,\u001b[0m \u001b[0my\u001b[0m\u001b[0;34m)\u001b[0m\u001b[0;34m\u001b[0m\u001b[0m\n\u001b[0m\u001b[1;32m      3\u001b[0m     \u001b[0mr_2\u001b[0m \u001b[0;34m=\u001b[0m \u001b[0mr_squared\u001b[0m\u001b[0;34m(\u001b[0m\u001b[0my\u001b[0m\u001b[0;34m,\u001b[0m \u001b[0mprediction\u001b[0m\u001b[0;34m)\u001b[0m\u001b[0;34m\u001b[0m\u001b[0m\n\u001b[1;32m      4\u001b[0m     plot_points_regression(X,\n\u001b[1;32m      5\u001b[0m                            \u001b[0my\u001b[0m\u001b[0;34m,\u001b[0m\u001b[0;34m\u001b[0m\u001b[0m\n",
      "\u001b[0;32m<ipython-input-18-29ce68c5e459>\u001b[0m in \u001b[0;36mnormal_equation_prediction\u001b[0;34m(X, y)\u001b[0m\n\u001b[1;32m     13\u001b[0m     \u001b[0mX\u001b[0m \u001b[0;34m=\u001b[0m \u001b[0mnp\u001b[0m\u001b[0;34m.\u001b[0m\u001b[0minsert\u001b[0m\u001b[0;34m(\u001b[0m\u001b[0mX\u001b[0m\u001b[0;34m,\u001b[0m \u001b[0;36m0\u001b[0m\u001b[0;34m,\u001b[0m \u001b[0;36m1.0\u001b[0m\u001b[0;34m,\u001b[0m \u001b[0maxis\u001b[0m\u001b[0;34m=\u001b[0m\u001b[0;36m1\u001b[0m\u001b[0;34m)\u001b[0m\u001b[0;34m\u001b[0m\u001b[0m\n\u001b[1;32m     14\u001b[0m     \u001b[0mw\u001b[0m \u001b[0;34m=\u001b[0m  \u001b[0mnp\u001b[0m\u001b[0;34m.\u001b[0m\u001b[0mlinalg\u001b[0m\u001b[0;34m.\u001b[0m\u001b[0minv\u001b[0m\u001b[0;34m(\u001b[0m\u001b[0mX\u001b[0m\u001b[0;34m.\u001b[0m\u001b[0mT\u001b[0m\u001b[0;34m.\u001b[0m\u001b[0mdot\u001b[0m\u001b[0;34m(\u001b[0m\u001b[0mX\u001b[0m\u001b[0;34m)\u001b[0m\u001b[0;34m)\u001b[0m\u001b[0;34m.\u001b[0m\u001b[0mdot\u001b[0m\u001b[0;34m(\u001b[0m\u001b[0mX\u001b[0m\u001b[0;34m.\u001b[0m\u001b[0mT\u001b[0m\u001b[0;34m)\u001b[0m\u001b[0;34m.\u001b[0m\u001b[0mdot\u001b[0m\u001b[0;34m(\u001b[0m\u001b[0my\u001b[0m\u001b[0;34m)\u001b[0m\u001b[0;34m\u001b[0m\u001b[0m\n\u001b[0;32m---> 15\u001b[0;31m     \u001b[0mprediction\u001b[0m \u001b[0;34m=\u001b[0m \u001b[0mw\u001b[0m\u001b[0;34m.\u001b[0m\u001b[0mT\u001b[0m\u001b[0;34m.\u001b[0m\u001b[0mdot\u001b[0m\u001b[0;34m(\u001b[0m\u001b[0mX\u001b[0m\u001b[0;34m)\u001b[0m\u001b[0;34m\u001b[0m\u001b[0m\n\u001b[0m\u001b[1;32m     16\u001b[0m \u001b[0;34m\u001b[0m\u001b[0m\n\u001b[1;32m     17\u001b[0m     \u001b[0;32mreturn\u001b[0m \u001b[0mprediction\u001b[0m\u001b[0;34m\u001b[0m\u001b[0m\n",
      "\u001b[0;31mValueError\u001b[0m: shapes (1,2) and (1000000,2) not aligned: 2 (dim 1) != 1000000 (dim 0)"
     ]
    }
   ],
>>>>>>> initial
   "source": [
    "try:\n",
    "    prediction = normal_equation_prediction(X, y)\n",
    "    r_2 = r_squared(y, prediction)\n",
    "    plot_points_regression(X,\n",
    "                           y,\n",
    "                           title='Real estate prices prediction',\n",
    "                           xlabel=\"m\\u00b2\",\n",
    "                           ylabel='$',\n",
    "                           prediction=prediction,\n",
    "                           legend=True,\n",
    "                           r_squared=r_2)\n",
    "except NotImplementedError:\n",
    "    print(\"Falta fazer!\")"
   ]
  },
  {
   "cell_type": "markdown",
   "metadata": {},
   "source": [
    "Você pode usar a métrica [$R^2$](https://pt.wikipedia.org/wiki/R%C2%B2) para ver o quão bem o modelo linear está se ajustando aos dados.\n",
    "\n",
    "**Nesse caso $R^2$ tem que estar próximo de $0.5$.**"
   ]
  },
  {
   "cell_type": "code",
<<<<<<< HEAD
   "execution_count": null,
   "metadata": {},
   "outputs": [],
=======
   "execution_count": 15,
   "metadata": {},
   "outputs": [
    {
     "name": "stdout",
     "output_type": "stream",
     "text": [
      "Tempo de execução da função de predição = 0.80947542(s)\n",
      "Tem que ser em menos de 1 segundo \n"
     ]
    }
   ],
>>>>>>> initial
   "source": [
    "try:\n",
    "    X, y = get_housing_prices_data(N=1000000, verbose=False)\n",
    "    init = time.time()\n",
    "    prediction = normal_equation_prediction(X, y)\n",
    "    init = time.time() - init\n",
    "    print(\"Tempo de execução da função de predição = {:.8f}(s)\".format(init))\n",
    "    print(\"Tem que ser em menos de 1 segundo \")\n",
    "    \n",
    "except NotImplementedError:\n",
    "    print(\"Falta fazer!\")"
   ]
  },
  {
   "cell_type": "code",
   "execution_count": null,
   "metadata": {},
   "outputs": [],
   "source": []
  }
 ],
 "metadata": {
  "kernelspec": {
   "display_name": "Python 3",
   "language": "python",
   "name": "python3"
  },
  "language_info": {
   "codemirror_mode": {
    "name": "ipython",
    "version": 3
   },
   "file_extension": ".py",
   "mimetype": "text/x-python",
   "name": "python",
   "nbconvert_exporter": "python",
   "pygments_lexer": "ipython3",
<<<<<<< HEAD
   "version": "3.5.2"
=======
   "version": "3.6.4"
>>>>>>> initial
  }
 },
 "nbformat": 4,
 "nbformat_minor": 2
}
